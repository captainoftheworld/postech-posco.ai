{
 "cells": [
  {
   "cell_type": "markdown",
   "metadata": {},
   "source": [
    "# MNIST"
   ]
  },
  {
   "cell_type": "markdown",
   "metadata": {},
   "source": [
    "### MNIST 데이터 받기"
   ]
  },
  {
   "cell_type": "code",
   "execution_count": 11,
   "metadata": {},
   "outputs": [],
   "source": [
    "import warnings\n",
    "warnings.filterwarnings('ignore')"
   ]
  },
  {
   "cell_type": "code",
   "execution_count": 10,
   "metadata": {},
   "outputs": [],
   "source": [
    "import os\n",
    "import sys\n",
    "import numpy as np\n",
    "%matplotlib inline\n",
    "import matplotlib.pyplot as plt\n",
    "import tensorflow as tf\n",
    "from tensorflow.examples.tutorials.mnist import input_data"
   ]
  },
  {
   "cell_type": "code",
   "execution_count": 12,
   "metadata": {},
   "outputs": [
    {
     "name": "stdout",
     "output_type": "stream",
     "text": [
      "Extracting data/train-images-idx3-ubyte.gz\n",
      "Extracting data/train-labels-idx1-ubyte.gz\n",
      "Extracting data/t10k-images-idx3-ubyte.gz\n",
      "Extracting data/t10k-labels-idx1-ubyte.gz\n"
     ]
    }
   ],
   "source": [
    "mnist = input_data.read_data_sets(\"data/\", one_hot=True)\n",
    "train_data = mnist.train.images\n",
    "train_label = mnist.train.labels\n",
    "test_data = mnist.test.images\n",
    "test_label = mnist.test.labels"
   ]
  },
  {
   "cell_type": "markdown",
   "metadata": {},
   "source": [
    "### MNIST 데이터 확인하기"
   ]
  },
  {
   "cell_type": "code",
   "execution_count": 13,
   "metadata": {},
   "outputs": [
    {
     "name": "stdout",
     "output_type": "stream",
     "text": [
      "(55000, 784)\n",
      "(55000, 10)\n",
      "(10000, 784)\n",
      "(10000, 10)\n"
     ]
    }
   ],
   "source": [
    "# size of MNIST\n",
    "print(train_data.shape)\n",
    "print(train_label.shape)\n",
    "print(test_data.shape)\n",
    "print(test_label.shape)"
   ]
  },
  {
   "cell_type": "markdown",
   "metadata": {},
   "source": [
    "### Data Pre-processing (데이터 전처리)"
   ]
  },
  {
   "cell_type": "markdown",
   "metadata": {},
   "source": [
    "# Implementation (1)\n",
    "\n",
    "\n",
    "### Loss function (손실 함수) : Cross Entropy\n",
    "\n",
    "## <center> \\\\( L(y_i, f(x_i; W)) = -\\frac{1}{n}\\sum_{i=1}^{n}\\sum_{k=1} y_{i,j} log(f(x_i)_k)\\\\)</center>\n",
    "\n",
    "\n",
    "#### get_cross_entropy_loss 함수의 내용을 완성하세요.\n",
    "#### (Hint : (1) tf.reduce_mean(), tf.reduce_sum(), tf.log() (2) Tensor dimension에 유의 (3) log 함수 사용 시 epsilon 사용하세요.)"
   ]
  },
  {
   "cell_type": "code",
   "execution_count": 14,
   "metadata": {},
   "outputs": [],
   "source": [
    "def get_cross_entropy_loss(y_true, y_hat, epsilon=1e-8):\n",
    "    \"\"\"\n",
    "    compute cross entropy\n",
    "\n",
    "    Args:\n",
    "        y_true: true label\n",
    "        y_hat: predicted label\n",
    "        epsilon: small value to prevent NaN in log\n",
    "\n",
    "    Returns:\n",
    "        cross entropy loss\n",
    "    \"\"\"\n",
    "    with tf.name_scope('cross_entropy'):\n",
    "        loss = -tf.reduce_mean(tf.reduce_sum(y_true * tf.log(y_hat),axis=1))\n",
    "    return loss"
   ]
  },
  {
   "cell_type": "code",
   "execution_count": 15,
   "metadata": {},
   "outputs": [],
   "source": [
    "def get_accuracy(y_true, y_hat):\n",
    "    \"\"\"\n",
    "    compute cross entropy\n",
    "\n",
    "    Args:\n",
    "        y_true: true label\n",
    "        y_hat: predicted label\n",
    "        epsilon: small value to prevent NaN in log\n",
    "\n",
    "    Returns:\n",
    "        cross entropy loss\n",
    "    \"\"\"\n",
    "    with tf.name_scope('accuracy'):\n",
    "        # Compare the highest indices between the predicted label and the true label\n",
    "        correct_prediction = tf.equal(tf.argmax(y_hat, 1), tf.argmax(y_true, 1), name='correct_prediction')\n",
    "        # Compute accuracy\n",
    "        accuracy = tf.reduce_mean(tf.cast(correct_prediction, tf.float32), name='accuracy')\n",
    "    return accuracy"
   ]
  },
  {
   "cell_type": "markdown",
   "metadata": {},
   "source": [
    "## Hyper-parameter (하이퍼 파라미터)"
   ]
  },
  {
   "cell_type": "code",
   "execution_count": 16,
   "metadata": {},
   "outputs": [],
   "source": [
    "# Set hypyerparameters\n",
    "learning_rate = 0.01\n",
    "max_iter = 200\n",
    "batch_size = 64"
   ]
  },
  {
   "cell_type": "markdown",
   "metadata": {},
   "source": [
    "# Implementation (2)\n",
    "### Linear Classifier (선형 분류기)\n",
    "\n",
    "### <center> \\\\( f(x) = W^Tx+b \\\\)</center>\n",
    "#### linear function을 완성하세요.\n",
    "#### (Hint : (1) weight, bias 선언 (2) tf.get_variable()의 initializer  (3) tf.matmul())"
   ]
  },
  {
   "cell_type": "code",
   "execution_count": 17,
   "metadata": {},
   "outputs": [],
   "source": [
    "def fc(name, out_dim, inputs):\n",
    "    \"\"\"\n",
    "    Args :\n",
    "        Inputs : Input tensor\n",
    "        out_dim : output dimension\n",
    "        \n",
    "    Returns:\n",
    "        inputs * weight + bias\n",
    "    \"\"\"\n",
    "    with tf.variable_scope(name) :\n",
    "        shp = inputs.get_shape().as_list()[1]\n",
    "        init = tf.truncated_normal([shp,out_dim], stddev=.01)\n",
    "        weights = tf.get_variable('w', initializer=init)\n",
    "        y_hat = tf.matmul(inputs, weights)\n",
    "        return y_hat"
   ]
  },
  {
   "cell_type": "markdown",
   "metadata": {},
   "source": [
    "# Implementation (3)\n",
    "\n",
    "### Model Setting\n",
    "\n",
    "#### 1. Training data 및 Test data의 각각의 image를 한 vector로 만들어서 train_data, test_data에 각각 저장하세요.\n",
    "##### Hint) 데이터 차원.\n",
    "#### 2. Dataset로부터 받은 데이터(Image, label)를 담을 변수를 각각 x 및 y_true에 선언하세요.\n",
    "##### Hint) tf.placeholder\n",
    "#### 3. Implementation (2)에서 구현한 linear classifier 함수값과 softmax 함수를 통한 prediction 값을 y_hat에 저장하세요.\n",
    "##### Hint) tf.nn.softmax\n",
    "#### 4. 3으로부터 얻은 결과를 통해 Implementation (1)에서 구현한 loss function을 통해 얻은 loss를 cross_entropy에 저장하세요."
   ]
  },
  {
   "cell_type": "code",
   "execution_count": 18,
   "metadata": {},
   "outputs": [
    {
     "name": "stdout",
     "output_type": "stream",
     "text": [
      "10th iteration, loss: 0.9792, test accuracy: 0.6971\n",
      "20th iteration, loss: 0.7929, test accuracy: 0.7899\n",
      "30th iteration, loss: 1.4615, test accuracy: 0.8136\n",
      "40th iteration, loss: 0.6595, test accuracy: 0.7741\n",
      "50th iteration, loss: 0.5306, test accuracy: 0.7791\n",
      "60th iteration, loss: 0.5255, test accuracy: 0.8061\n",
      "70th iteration, loss: 1.2640, test accuracy: 0.8274\n",
      "80th iteration, loss: 0.5914, test accuracy: 0.8493\n",
      "90th iteration, loss: 0.7349, test accuracy: 0.8357\n",
      "100th iteration, loss: 0.8597, test accuracy: 0.8613\n",
      "110th iteration, loss: 0.9471, test accuracy: 0.8445\n",
      "120th iteration, loss: 0.7152, test accuracy: 0.8120\n",
      "130th iteration, loss: 0.7357, test accuracy: 0.7954\n",
      "140th iteration, loss: 0.7052, test accuracy: 0.8203\n",
      "150th iteration, loss: 0.8627, test accuracy: 0.8460\n",
      "160th iteration, loss: 1.0988, test accuracy: 0.8551\n",
      "170th iteration, loss: 0.6365, test accuracy: 0.8275\n",
      "180th iteration, loss: 0.4020, test accuracy: 0.8118\n",
      "190th iteration, loss: 0.7966, test accuracy: 0.8703\n",
      "200th iteration, loss: 0.4569, test accuracy: 0.8399\n"
     ]
    }
   ],
   "source": [
    "tf.reset_default_graph()\n",
    "\n",
    "# train_data = None\n",
    "# test_data = None\n",
    "\n",
    "x = tf.placeholder(tf.float32,[None,784])\n",
    "y_true = tf.placeholder(tf.float32,[None,10])\n",
    "\n",
    "h1 = fc('layer1', 512, x)\n",
    "y_logits = fc('layer2',10,h1)\n",
    "y_hat = tf.nn.softmax(y_logits)\n",
    "\n",
    "cross_entropy = get_cross_entropy_loss(y_true,y_hat)\n",
    "\n",
    "# Calculate accuracy\n",
    "accuracy = get_accuracy(y_true, y_hat)\n",
    "# Make gradient descent op\n",
    "train_step = tf.train.AdamOptimizer(learning_rate).minimize(cross_entropy)\n",
    "\n",
    "# Make op to initialize declared variable\n",
    "init = tf.global_variables_initializer()\n",
    "\n",
    "with tf.Session() as sess:\n",
    "    # Initialize variables\n",
    "    sess.run(init)\n",
    "    \n",
    "    # Training\n",
    "    for step in range(max_iter):\n",
    "        # Get batch data and label\n",
    "        batch_x, batch_y = mnist.train.next_batch(batch_size)\n",
    "        # train the network and calculate cross entropy\n",
    "        _, loss = sess.run([train_step, cross_entropy], feed_dict={x: batch_x, y_true: batch_y})\n",
    "        # calcualte accuracy\n",
    "        acc = sess.run(accuracy, feed_dict={x: test_data, y_true: test_label})\n",
    "        # print loss (cross entropy) and accuracy at every 10th step\n",
    "        if (step + 1) % 10 == 0:\n",
    "            print(\"{}th iteration, loss: {:.4f}, test accuracy: {:.4f}\".format(step + 1, loss, acc))"
   ]
  },
  {
   "cell_type": "code",
   "execution_count": null,
   "metadata": {},
   "outputs": [],
   "source": []
  }
 ],
 "metadata": {
  "kernelspec": {
   "display_name": "py35",
   "language": "python",
   "name": "py35"
  },
  "language_info": {
   "codemirror_mode": {
    "name": "ipython",
    "version": 3
   },
   "file_extension": ".py",
   "mimetype": "text/x-python",
   "name": "python",
   "nbconvert_exporter": "python",
   "pygments_lexer": "ipython3",
   "version": "3.5.6"
  }
 },
 "nbformat": 4,
 "nbformat_minor": 2
}
